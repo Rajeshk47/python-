{
 "cells": [
  {
   "cell_type": "code",
   "execution_count": 1,
   "metadata": {},
   "outputs": [
    {
     "name": "stdout",
     "output_type": "stream",
     "text": [
      "enter a string: pythonprogramming\n",
      "p 2\n",
      "y 1\n",
      "t 1\n",
      "h 1\n",
      "o 2\n",
      "n 2\n",
      "r 2\n",
      "g 2\n",
      "a 1\n",
      "m 2\n",
      "i 1\n"
     ]
    }
   ],
   "source": [
    "s = input(\"enter a string: \")\n",
    "for i in range(len(s)):\n",
    "    count = 0\n",
    "    for j in range(len(s)): v b\n",
    "        if s[i] == s[j]:\n",
    "            count += 1\n",
    "    match = True\n",
    "    k= i -1\n",
    "    while(k>= 0):\n",
    "        if s[i] == s[k]:\n",
    "            match = False\n",
    "        k= k- 1\n",
    "    if match == True:\n",
    "        print(s[i], count)"
   ]
  },
  {
   "cell_type": "code",
   "execution_count": 1,
   "metadata": {},
   "outputs": [
    {
     "name": "stdout",
     "output_type": "stream",
     "text": [
      "enter a string: pythonprogramming\n",
      "p 2\n",
      "y 1\n",
      "t 1\n",
      "h 1\n",
      "o 2\n",
      "n 2\n",
      "r 2\n",
      "g 2\n",
      "a 1\n",
      "m 2\n",
      "i 1\n"
     ]
    }
   ],
   "source": [
    "s = input(\"enter a string: \")\n",
    "r =\"\"\n",
    "for i in s:\n",
    "    if i not in r:\n",
    "        r=r+i\n",
    "for j in r:\n",
    "    count=0\n",
    "    for k in s:\n",
    "        if j == k:\n",
    "            count+= 1\n",
    "    print(j, count)       "
   ]
  },
  {
   "cell_type": "code",
   "execution_count": null,
   "metadata": {},
   "outputs": [],
   "source": []
  }
 ],
 "metadata": {
  "kernelspec": {
   "display_name": "Python 3",
   "language": "python",
   "name": "python3"
  },
  "language_info": {
   "codemirror_mode": {
    "name": "ipython",
    "version": 3
   },
   "file_extension": ".py",
   "mimetype": "text/x-python",
   "name": "python",
   "nbconvert_exporter": "python",
   "pygments_lexer": "ipython3",
   "version": "3.7.3"
  }
 },
 "nbformat": 4,
 "nbformat_minor": 2
}
