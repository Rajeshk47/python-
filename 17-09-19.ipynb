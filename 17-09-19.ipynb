{
 "cells": [
  {
   "cell_type": "markdown",
   "metadata": {},
   "source": [
    "### alternate numbers"
   ]
  },
  {
   "cell_type": "code",
   "execution_count": 8,
   "metadata": {},
   "outputs": [
    {
     "name": "stdout",
     "output_type": "stream",
     "text": [
      "1\n",
      "3\n",
      "5\n",
      "7\n",
      "9\n"
     ]
    }
   ],
   "source": [
    "def isalternum(a,b):\n",
    "    for i in range(a,b,2):\n",
    "            print(i)\n",
    "isalternum(1,10)            "
   ]
  },
  {
   "cell_type": "markdown",
   "metadata": {},
   "source": [
    "### multiplication table"
   ]
  },
  {
   "cell_type": "code",
   "execution_count": 14,
   "metadata": {},
   "outputs": [
    {
     "name": "stdout",
     "output_type": "stream",
     "text": [
      "3 x 10 = 30\n",
      "3 x 11 = 33\n",
      "3 x 12 = 36\n",
      "3 x 13 = 39\n",
      "3 x 14 = 42\n",
      "3 x 15 = 45\n",
      "3 x 16 = 48\n",
      "3 x 17 = 51\n",
      "3 x 18 = 54\n",
      "3 x 19 = 57\n",
      "3 x 20 = 60\n"
     ]
    }
   ],
   "source": [
    "def ismultiple(start,end):\n",
    "    num=3\n",
    "    for i in range(start,end):\n",
    "        print(num,'x',i,'=',num*i)\n",
    "ismultiple(10,21)        "
   ]
  },
  {
   "cell_type": "markdown",
   "metadata": {},
   "source": [
    "### positive number or not"
   ]
  },
  {
   "cell_type": "code",
   "execution_count": 21,
   "metadata": {},
   "outputs": [
    {
     "name": "stdout",
     "output_type": "stream",
     "text": [
      "negative number\n"
     ]
    }
   ],
   "source": [
    "def isposi(n):\n",
    "    if n>0:\n",
    "        print(\"positive number\")\n",
    "    elif(n==0):\n",
    "        print(\"zero\")\n",
    "    else:\n",
    "        print(\"negative number\")\n",
    "isposi(-1)        "
   ]
  },
  {
   "cell_type": "markdown",
   "metadata": {},
   "source": [
    "### integers print fizz"
   ]
  },
  {
   "cell_type": "code",
   "execution_count": 26,
   "metadata": {},
   "outputs": [
    {
     "name": "stdout",
     "output_type": "stream",
     "text": [
      "fizz\n",
      "buzz\n",
      "fizz\n",
      "fizz\n",
      "buzz\n",
      "fizz\n",
      "fizz\n",
      "fizz\n",
      "buzz\n",
      "fizz\n",
      "fizz\n",
      "buzz\n",
      "fizz\n",
      "fizz\n",
      "fizz\n",
      "buzz\n",
      "fizz\n",
      "fizz\n",
      "buzz\n",
      "fizz\n",
      "fizz\n",
      "fizz\n"
     ]
    }
   ],
   "source": [
    "def isnum(a,b):\n",
    "    for i in range(a,b):\n",
    "        if i%3==0:\n",
    "            print(\"fizz\")\n",
    "        elif i%5==0:\n",
    "            print(\"buzz\")\n",
    "        elif i%3==0 and i%5==0:\n",
    "            print(\"fizzbuzz\")\n",
    "isnum(1,50)            \n",
    "    \n"
   ]
  },
  {
   "cell_type": "markdown",
   "metadata": {},
   "source": [
    "### fabinocus series"
   ]
  },
  {
   "cell_type": "code",
   "execution_count": 45,
   "metadata": {},
   "outputs": [
    {
     "name": "stdout",
     "output_type": "stream",
     "text": [
      "fabinocus series upto n: \n",
      "0\n",
      "1\n",
      "1\n",
      "2\n",
      "3\n",
      "5\n",
      "8\n"
     ]
    }
   ],
   "source": [
    "def isfab(n):\n",
    "    i=0\n",
    "    j=1\n",
    "    count=0\n",
    "    print(\"fabinocus series upto n: \",)\n",
    "    print(i)\n",
    "    print(j)\n",
    "    while count<n:\n",
    "        k=i+j\n",
    "        i=j\n",
    "        j=k\n",
    "        count+=1\n",
    "        print(k)\n",
    "isfab(5)        "
   ]
  },
  {
   "cell_type": "code",
   "execution_count": null,
   "metadata": {},
   "outputs": [],
   "source": []
  }
 ],
 "metadata": {
  "kernelspec": {
   "display_name": "Python 3",
   "language": "python",
   "name": "python3"
  },
  "language_info": {
   "codemirror_mode": {
    "name": "ipython",
    "version": 3
   },
   "file_extension": ".py",
   "mimetype": "text/x-python",
   "name": "python",
   "nbconvert_exporter": "python",
   "pygments_lexer": "ipython3",
   "version": "3.7.3"
  }
 },
 "nbformat": 4,
 "nbformat_minor": 2
}
